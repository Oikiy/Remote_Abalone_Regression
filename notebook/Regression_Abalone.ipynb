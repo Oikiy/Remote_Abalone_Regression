{
 "cells": [
  {
   "cell_type": "markdown",
   "metadata": {},
   "source": [
    "1. Setup envivronment"
   ]
  },
  {
   "cell_type": "code",
   "execution_count": null,
   "metadata": {},
   "outputs": [],
   "source": [
    "## This is a Juptyer notebook for the Kaggle Project: Abalone Regresssion\n",
    "\n",
    "%pip install numpy\n",
    "%pip install pandas\n",
    "%pip install matplotlib\n",
    "%pip install seaborn\n",
    "%pip install scikit-learn\n",
    "## Import libaries\n",
    "\n",
    "## Data analysis and wrangling\n",
    "import numpy as np\n",
    "import pandas as pd\n",
    "import random as rnd\n",
    "\n",
    "## Data Visualization\n",
    "import matplotlib.pyplot as plt\n",
    "import seaborn as sns\n",
    "\n",
    "# Machine learning \n",
    "from sklearn.linear_model import LinearRegression\n",
    "from sklearn.linear_model import LogisticRegression\n",
    "from sklearn.svm import SVC, LinearSVC\n",
    "from sklearn.ensemble import RandomForestClassifier\n",
    "from sklearn.neighbors import KNeighborsClassifier\n",
    "from sklearn.naive_bayes import GaussianNB\n",
    "from sklearn.linear_model import Perceptron\n",
    "from sklearn.linear_model import SGDClassifier\n",
    "from sklearn.tree import DecisionTreeClassifier\n",
    "\n",
    "#ML Methods\n",
    "from sklearn.model_selection import train_test_split\n"
   ]
  },
  {
   "cell_type": "markdown",
   "metadata": {},
   "source": [
    "2. Problem identification "
   ]
  },
  {
   "cell_type": "markdown",
   "metadata": {},
   "source": [
    "Problem statement: \n",
    "\n",
    "This is one of the 2024 playground competitions on Kaggle. The major goal of the project is the develop a model for predicting the age of abalone from different physical measurements.\n",
    "\n",
    "Performance indicator:\n",
    "The model performanc will be checked by the Root Mean Squared Logarithmic Error between the actual and predicted \"Rings\".\n",
    "\n",
    "Reference:\n",
    "Walter Reade, Ashley Chow. (2024). Regression with an Abalone Dataset. Kaggle. https://kaggle.com/competitions/playground-series-s4e4"
   ]
  },
  {
   "cell_type": "markdown",
   "metadata": {},
   "source": [
    "3. Reading data "
   ]
  },
  {
   "cell_type": "code",
   "execution_count": null,
   "metadata": {},
   "outputs": [],
   "source": [
    "## Reading data\n",
    "train_df=pd.read_csv('C:\\\\Users\\\\Kai Qi Yan\\\\OneDrive\\\\文档\\\\GitHub\\\\Remote_Abalone_Regression\\\\Input\\\\train.csv')#\n",
    "test_df=pd.read_csv('C:\\\\Users\\\\Kai Qi Yan\\\\OneDrive\\\\文档\\\\GitHub\\\\Remote_Abalone_Regression\\\\Input\\\\test.csv')"
   ]
  },
  {
   "cell_type": "markdown",
   "metadata": {},
   "source": [
    "4. Basic data checks\n",
    "\n",
    "4.1 The number of features"
   ]
  },
  {
   "cell_type": "code",
   "execution_count": null,
   "metadata": {},
   "outputs": [],
   "source": [
    "# Number of columns and rows in the dataset\n",
    "print(train_df.columns.values)\n",
    "print(train_df.shape)"
   ]
  },
  {
   "cell_type": "markdown",
   "metadata": {},
   "source": [
    "There are 10 columns in the data. \n",
    "The Ring is the target, id is the number of entries and others are features.\n",
    "From the https://archive.ics.uci.edu/dataset/1/abalone, we obtained the following details of the features.\n",
    "1. Sex: M,F,I(infant)\n",
    "2. Length: longest shell distance in [mm]\n",
    "3. Diameter: distance perpendicular to Length in [mm]\n",
    "4. Height: the height with meat in the shell [mm]\n",
    "5. Whole weight: the weight of the whole abalone(shell+meat) [g]\n",
    "6. Shucked weight (named as Whole weight.1): the weight of meat [g]\n",
    "7. Viscera_weight (named as Whole weight.2): the weight of gut after bleeding [g]\n",
    "8. Shell weight = the weight of dried shell [g]\n",
    "9. Rings = +1.5 gives the age in years (Done by cutting the shell through the cone, staining it, and counting the number of rings through a microscope)\n",
    "\n",
    "In the training dataset, there are 90515 entries of data."
   ]
  },
  {
   "cell_type": "code",
   "execution_count": null,
   "metadata": {},
   "outputs": [],
   "source": [
    "train_df.head()"
   ]
  },
  {
   "cell_type": "code",
   "execution_count": null,
   "metadata": {},
   "outputs": [],
   "source": [
    "test_df.head()"
   ]
  },
  {
   "cell_type": "markdown",
   "metadata": {},
   "source": [
    "4.2 Data type of the features"
   ]
  },
  {
   "cell_type": "code",
   "execution_count": null,
   "metadata": {},
   "outputs": [],
   "source": [
    "train_df.info()"
   ]
  },
  {
   "cell_type": "code",
   "execution_count": null,
   "metadata": {},
   "outputs": [],
   "source": [
    "test_df.info()"
   ]
  },
  {
   "cell_type": "markdown",
   "metadata": {},
   "source": [
    "There are 1 categorial input: Sex and others are numerical. While the target \"Rings\" is an integer, the inputs are all floats."
   ]
  },
  {
   "cell_type": "code",
   "execution_count": null,
   "metadata": {},
   "outputs": [],
   "source": [
    "# separate the numerical and categorical columns\n",
    "num_cols = train_df._get_numeric_data().columns\n",
    "cat_cols = list(set(train_df.columns) - set(num_cols))"
   ]
  },
  {
   "cell_type": "markdown",
   "metadata": {},
   "source": [
    "4.3 Checking of missing entries and duplicates\n",
    "\n",
    "4.3.1 Missing entries"
   ]
  },
  {
   "cell_type": "code",
   "execution_count": null,
   "metadata": {},
   "outputs": [],
   "source": [
    "print(\"TrainData\\n\\n\",train_df.isnull().sum())\n",
    "print(\"_\"*40)\n",
    "print(\"TestData\\n\\n\",test_df.isnull().sum())"
   ]
  },
  {
   "cell_type": "markdown",
   "metadata": {},
   "source": [
    "There are no missing entries (NaN) in both datasets."
   ]
  },
  {
   "cell_type": "markdown",
   "metadata": {},
   "source": [
    "4.3.2 Duplicates"
   ]
  },
  {
   "cell_type": "code",
   "execution_count": null,
   "metadata": {},
   "outputs": [],
   "source": [
    "print(\"TrainData\",\"\\n\",train_df.duplicated().sum())\n",
    "print(\"_\"*40)\n",
    "print(\"TestData\",\"\\n\",test_df.duplicated().sum())"
   ]
  },
  {
   "cell_type": "markdown",
   "metadata": {},
   "source": []
  },
  {
   "cell_type": "markdown",
   "metadata": {},
   "source": [
    "There are no duplicates in both datasets."
   ]
  },
  {
   "cell_type": "markdown",
   "metadata": {},
   "source": [
    "4.3 Feature engineering\n",
    "\n",
    "4.3.1. Explore new features\n",
    "The following new features are included in the datasets:\n",
    "\n",
    "1. Aspect ratio: Length/Distance. This is a shape desriptor for the abalone, which roughly represent the roundness. \n",
    "\n",
    "2. Ellipsoid Volume: 4/3*pi*(Length/2)*(Distance/2)*(Height/2)\n",
    "\n",
    "3. Meat/Whole abalone ratio:\n",
    "\n",
    "4. Gut/Meat Ratio:\n",
    "\n",
    "\n",
    "\n",
    "ref:https://imagej.net/ij/docs/guide/146-30.html#toc-Subsection-30.7\n"
   ]
  },
  {
   "cell_type": "code",
   "execution_count": null,
   "metadata": {},
   "outputs": [],
   "source": [
    "# Drop unnecessary features\n",
    "train_df.drop(['id'], axis=1, inplace=True)\n",
    "test_df.drop(['id'], axis=1, inplace=True)"
   ]
  },
  {
   "cell_type": "markdown",
   "metadata": {},
   "source": [
    "4.4 The distribution of the features\n",
    "\n",
    "4.4.1 Distribution of numerical features"
   ]
  },
  {
   "cell_type": "code",
   "execution_count": null,
   "metadata": {},
   "outputs": [],
   "source": [
    "# Descriptive statistics of numerical features\n",
    "train_df.describe()"
   ]
  },
  {
   "cell_type": "markdown",
   "metadata": {},
   "source": [
    "Note that in Height, the minimum value is 0, indicating a missing value as the height of an abalone can never be 0.\n",
    "Looking at the maximum/minimum and the mean values, the large differences between the them may indicate the features are either skewed or with outliers. \n",
    "This will be check again in the distribution plot again in the later section."
   ]
  },
  {
   "cell_type": "code",
   "execution_count": null,
   "metadata": {},
   "outputs": [],
   "source": [
    "# plot the distribution of the feature variables\n",
    "# Plot histograms of each variable\n",
    "axes = train_df.hist(bins=60, figsize=(20,15), color='skyblue', edgecolor='black', alpha=0.7, layout=(len(train_df.columns),2))\n",
    "\n",
    "# Add labels\n",
    "for ax, column in zip(axes.flatten(), train_df.columns):\n",
    "    ax.set_title(column)\n",
    "\n",
    "# Improve layout\n",
    "plt.tight_layout()\n",
    "plt.show()"
   ]
  },
  {
   "cell_type": "markdown",
   "metadata": {},
   "source": [
    "##### why the last column is missing?\n",
    "\n",
    "From the above plots, it is observed that most of the numerical features are skewed. Also, the magnitude of the Shell weight is much larger than the other variables. Noramlization and standardization maybe required."
   ]
  },
  {
   "cell_type": "code",
   "execution_count": null,
   "metadata": {},
   "outputs": [],
   "source": [
    "test_df.describe()"
   ]
  },
  {
   "cell_type": "code",
   "execution_count": null,
   "metadata": {},
   "outputs": [],
   "source": [
    "# plot the distribution of the feature variables\n",
    "# Plot histograms of each variable\n",
    "axes = test_df.hist(bins=60, figsize=(20,15), color='skyblue', edgecolor='black', alpha=0.7, layout=(len(test_df.columns), 2))\n",
    "\n",
    "# Add labels\n",
    "for ax, column in zip(axes.flatten(), test_df.columns):\n",
    "    ax.set_title(column)\n",
    "\n",
    "# Improve layout\n",
    "plt.tight_layout()\n",
    "plt.show()"
   ]
  },
  {
   "cell_type": "code",
   "execution_count": null,
   "metadata": {},
   "outputs": [],
   "source": [
    "# Check the number of missing values in height column\n",
    "print(\"The number of 0 in the Height column of the train dataset is:\",(train_df.Height==0).sum())\n",
    "print(\"The number of 0 in the Height column of the test dataset is:\",(test_df.Height==0).sum())"
   ]
  },
  {
   "cell_type": "markdown",
   "metadata": {},
   "source": [
    "In the test dataset, there are also missing value (0) in the Height column. Before the prediction, we will need to handle them.\n",
    "\n",
    "4.4.2 Distribution of categorial features"
   ]
  },
  {
   "cell_type": "code",
   "execution_count": null,
   "metadata": {},
   "outputs": [],
   "source": [
    "# Descriptive statistics of categorical features\n",
    "train_df.describe(include=['O'])"
   ]
  },
  {
   "cell_type": "code",
   "execution_count": null,
   "metadata": {},
   "outputs": [],
   "source": [
    "test_df.describe(include=['O'])"
   ]
  },
  {
   "cell_type": "markdown",
   "metadata": {},
   "source": [
    "4.5 indentify outliers"
   ]
  },
  {
   "cell_type": "code",
   "execution_count": null,
   "metadata": {},
   "outputs": [],
   "source": []
  }
 ],
 "metadata": {
  "kernelspec": {
   "display_name": "MLEnv",
   "language": "python",
   "name": "python3"
  },
  "language_info": {
   "codemirror_mode": {
    "name": "ipython",
    "version": 3
   },
   "file_extension": ".py",
   "mimetype": "text/x-python",
   "name": "python",
   "nbconvert_exporter": "python",
   "pygments_lexer": "ipython3",
   "version": "3.11.9"
  }
 },
 "nbformat": 4,
 "nbformat_minor": 2
}
